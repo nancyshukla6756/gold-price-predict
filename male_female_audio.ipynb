{
  "nbformat": 4,
  "nbformat_minor": 0,
  "metadata": {
    "colab": {
      "provenance": [],
      "toc_visible": true,
      "authorship_tag": "ABX9TyMObTgn8hMU7NpVDNANR//T",
      "include_colab_link": true
    },
    "kernelspec": {
      "name": "python3",
      "display_name": "Python 3"
    },
    "language_info": {
      "name": "python"
    }
  },
  "cells": [
    {
      "cell_type": "markdown",
      "metadata": {
        "id": "view-in-github",
        "colab_type": "text"
      },
      "source": [
        "<a href=\"https://colab.research.google.com/github/nancyshukla6756/gold-price-predict/blob/main/male_female_audio.ipynb\" target=\"_parent\"><img src=\"https://colab.research.google.com/assets/colab-badge.svg\" alt=\"Open In Colab\"/></a>"
      ]
    },
    {
      "cell_type": "code",
      "source": [
        "import urllib.request\n",
        "import tarfile\n",
        "import pandas as pd\n",
        "import os\n"
      ],
      "metadata": {
        "id": "BRp67x6wtbTB"
      },
      "execution_count": 11,
      "outputs": []
    },
    {
      "cell_type": "code",
      "source": [
        "# Set the URL for the English dataset\n",
        "url = 'https://common-voice-data-download.s3.amazonaws.com/cv_corpus_v1.tar.gz'\n",
        "\n",
        "# Set the directory to download and extract the dataset to\n",
        "data_dir = 'cv_corpus_v1'\n"
      ],
      "metadata": {
        "id": "nuPDrrMstxYG"
      },
      "execution_count": 12,
      "outputs": []
    },
    {
      "cell_type": "code",
      "source": [
        "# Create the data directory if it doesn't already exist\n",
        "if not os.path.exists(data_dir):\n",
        "    os.mkdir(data_dir)"
      ],
      "metadata": {
        "id": "RWzeZeectz99"
      },
      "execution_count": 13,
      "outputs": []
    },
    {
      "cell_type": "code",
      "source": [
        "# Download the dataset and extract it to the data directory\n",
        "print('Downloading dataset...')\n",
        "urllib.request.urlretrieve(url, f'{data_dir}.tar.gz')\n",
        "print('Extracting dataset...')\n",
        "tar = tarfile.open(f'{data_dir}.tar.gz', 'r:gz')\n",
        "tar.extractall(data_dir)\n",
        "tar.close()\n",
        "os.remove(f'{data_dir}.tar.gz')\n"
      ],
      "metadata": {
        "colab": {
          "base_uri": "https://localhost:8080/"
        },
        "id": "VkHR6kWFt6yC",
        "outputId": "81243081-a9a4-4ec1-8db8-e5a4e49b4072"
      },
      "execution_count": 14,
      "outputs": [
        {
          "output_type": "stream",
          "name": "stdout",
          "text": [
            "Downloading dataset...\n",
            "Extracting dataset...\n"
          ]
        }
      ]
    },
    {
      "cell_type": "code",
      "source": [
        "# Load the metadata file into a Pandas dataframe\n",
        "metadata_file = f'{data_dir}/en/metadata.csv'\n",
        "metadata = pd.read_csv(metadata_file)\n",
        "\n",
        "# Filter the metadata to include only male and female speakers\n",
        "metadata = metadata[(metadata['gender'] == 'male') | (metadata['gender'] == 'female')]\n",
        "\n",
        "# Print some information about the dataset\n",
        "print(f'Number of audio files: {metadata.shape[0]}')\n",
        "print(f'Number of male speakers: {metadata[metadata[\"gender\"]==\"male\"].speaker.nunique()}')\n",
        "print(f'Number of female speakers: {metadata[metadata[\"gender\"]==\"female\"].speaker.nunique()}')\n",
        "\n",
        "# Loop through the audio files and do something with them (e.g. extract features)\n",
        "for i, row in metadata.iterrows():\n",
        "    audio_file = f'{data_dir}/{row.path}'\n",
        "    # do something with the audio file..."
      ],
      "metadata": {
        "id": "X-va28_AE4YX"
      },
      "execution_count": null,
      "outputs": []
    },
    {
      "cell_type": "code",
      "source": [
        "import librosa\n",
        "import pandas as pd\n",
        "import numpy as np\n",
        "import os\n",
        "\n",
        "# Set the directory where the audio files are stored\n",
        "data_dir = 'cv_corpus_v1/en/clips'\n",
        "\n",
        "# Set the directory where the feature files will be saved\n",
        "feat_dir = 'cv_corpus_v1/en/features'\n",
        "\n",
        "# Create the feature directory if it doesn't already exist\n",
        "if not os.path.exists(feat_dir):\n",
        "    os.mkdir(feat_dir)\n",
        "\n",
        "# Load the metadata file into a Pandas dataframe\n",
        "metadata_file = 'cv_corpus_v1/en/metadata.csv'\n",
        "metadata = pd.read_csv(metadata_file)\n",
        "\n",
        "# Filter the metadata to include only male and female speakers\n",
        "metadata = metadata[(metadata['gender'] == 'male') | (metadata['gender'] == 'female')]\n",
        "\n",
        "# Set the size of the feature vectors\n",
        "feat_size = 20\n",
        "\n",
        "# Loop through the audio files and extract features\n",
        "for i, row in metadata.iterrows():\n",
        "    # Load the audio file and extract the features\n",
        "    audio_file = os.path.join(data_dir, row['path'])\n",
        "    y, sr = librosa.load(audio_file, sr=None)\n",
        "    mfcc = librosa.feature.mfcc(y=y, sr=sr, n_mfcc=feat_size)\n",
        "    feat = np.mean(mfcc, axis=1)\n",
        "    \n",
        "    # Save the features to a file\n",
        "    feat_file = os.path.join(feat_dir, row['path'][:-4] + '.npy')\n",
        "    np.save(feat_file, feat)\n",
        "\n",
        "    # Print progress\n",
        "    print(f'Processed file {i+1} of {metadata.shape[0]}: {row[\"path\"]}')\n"
      ],
      "metadata": {
        "id": "knLSLo9eFFW-"
      },
      "execution_count": null,
      "outputs": []
    },
    {
      "cell_type": "code",
      "source": [
        "import pandas as pd\n",
        "import numpy as np\n",
        "import os\n",
        "\n",
        "# Set the directory where the feature files are stored\n",
        "feat_dir = 'cv_corpus_v1/en/features'\n",
        "\n",
        "# Load the metadata file into a Pandas dataframe\n",
        "metadata_file = 'cv_corpus_v1/en/metadata.csv'\n",
        "metadata = pd.read_csv(metadata_file)\n",
        "\n",
        "# Filter the metadata to include only male and female speakers\n",
        "metadata = metadata[(metadata['gender'] == 'male') | (metadata['gender'] == 'female')]\n",
        "\n",
        "# Set the size of the feature vectors\n",
        "feat_size = 20\n",
        "\n",
        "# Create an empty dataframe to hold the features\n",
        "features = pd.DataFrame(columns=['filename'] + [f'mfcc_{i}' for i in range(feat_size)])\n",
        "\n",
        "# Loop through the audio files and add the features to the dataframe\n",
        "for i, row in metadata.iterrows():\n",
        "    # Load the feature file and add the features to the dataframe\n",
        "    feat_file = os.path.join(feat_dir, row['path'][:-4] + '.npy')\n",
        "    feat = np.load(feat_file)\n",
        "    features.loc[i] = [row['path']] + feat.tolist()\n",
        "\n",
        "    # Print progress\n",
        "    print(f'Processed file {i+1} of {metadata.shape[0]}: {row[\"path\"]}')\n",
        "\n",
        "# Add the gender column to the dataframe\n",
        "features['gender'] = metadata['gender'].values\n",
        "\n",
        "# Save the dataframe to a CSV file\n",
        "features.to_csv('cv_corpus_v1_en_features.csv', index=False)\n"
      ],
      "metadata": {
        "id": "PBsq7NLDFJBv"
      },
      "execution_count": null,
      "outputs": []
    },
    {
      "cell_type": "code",
      "source": [
        "import pandas as pd\n",
        "import numpy as np\n",
        "from sklearn.model_selection import train_test_split\n",
        "from sklearn.preprocessing import StandardScaler\n",
        "from sklearn.svm import SVC\n",
        "from sklearn.metrics import accuracy_score\n",
        "\n",
        "# Load the feature dataframe\n",
        "features_file = 'cv_corpus_v1_en_features.csv'\n",
        "features = pd.read_csv(features_file)\n",
        "\n",
        "# Split the data into training and testing sets\n",
        "X_train, X_test, y_train, y_test = train_test_split(features.iloc[:, 1:-1], features.iloc[:, -1], test_size=0.2, random_state=42)\n",
        "\n",
        "# Scale the features to zero mean and unit variance\n",
        "scaler = StandardScaler()\n",
        "X_train_scaled = scaler.fit_transform(X_train)\n",
        "X_test_scaled = scaler.transform(X_test)\n",
        "\n",
        "# Train a support vector machine (SVM) classifier\n",
        "svm = SVC(kernel='rbf', C=1.0, gamma='scale', random_state=42)\n",
        "svm.fit(X_train_scaled, y_train)\n",
        "\n",
        "# Make predictions on the test set and calculate accuracy\n",
        "y_pred = svm.predict(X_test_scaled)\n",
        "accuracy = accuracy_score(y_test, y_pred)\n",
        "print(f'Test accuracy: {accuracy:.4f}')\n"
      ],
      "metadata": {
        "id": "rx5NNQT6FMD-"
      },
      "execution_count": null,
      "outputs": []
    },
    {
      "cell_type": "code",
      "source": [
        "import pyaudio\n",
        "import numpy as np\n",
        "import librosa\n",
        "import pandas as pd\n",
        "from sklearn.preprocessing import StandardScaler\n",
        "from sklearn.svm import SVC\n",
        "\n",
        "# Load the SVM classifier and scaler\n",
        "svm = SVC(kernel='rbf', C=1.0, gamma='scale', random_state=42)\n",
        "scaler = StandardScaler()\n",
        "model_dir = 'models'\n",
        "svm_file = 'svm_model.pkl'\n",
        "scaler_file = 'scaler.pkl'\n",
        "svm.load(model_dir + '/' + svm_file)\n",
        "scaler = pd.read_pickle(model_dir + '/' + scaler_file)\n",
        "\n",
        "# Define the audio recording parameters\n",
        "duration = 3  # seconds\n",
        "sample_rate = 16000\n",
        "num_channels = 1\n",
        "chunk_size = 1024\n",
        "\n",
        "# Initialize the PyAudio object\n",
        "audio = pyaudio.PyAudio()\n",
        "\n",
        "# Open a stream to record audio from the microphone\n",
        "stream = audio.open(format=pyaudio.paFloat32, channels=num_channels, rate=sample_rate, input=True, frames_per_buffer=chunk_size)\n",
        "\n",
        "# Record audio for the specified duration\n",
        "print('Recording...')\n",
        "frames = []\n",
        "for i in range(0, int(sample_rate / chunk_size * duration)):\n",
        "    data = stream.read(chunk_size)\n",
        "    frames.append(data)\n",
        "\n",
        "# Close the stream\n",
        "stream.stop_stream()\n",
        "stream.close()\n",
        "audio.terminate()\n",
        "\n",
        "# Convert the recorded audio to a numpy array\n",
        "audio_data = np.frombuffer(b''.join(frames), dtype=np.float32)\n",
        "\n",
        "# Extract the MFCC features from the audio data\n",
        "mfcc = librosa.feature.mfcc(audio_data, sr=sample_rate, n_mfcc=20)\n",
        "\n",
        "# Flatten the MFCC features into a single row\n",
        "mfcc_flat = mfcc.reshape(1, -1)\n",
        "\n",
        "# Scale the MFCC features using the saved scaler\n",
        "mfcc_scaled = scaler.transform(mfcc_flat)\n",
        "\n",
        "# Predict the gender label of the audio using the saved SVM classifier\n",
        "gender_label = svm.predict(mfcc_scaled)[0]\n",
        "\n",
        "# Print the predicted gender label\n",
        "if gender_label == 'male':\n",
        "    print('The audio is male.')\n",
        "elif gender_label == 'female':\n",
        "    print('The audio is female.')\n",
        "else:\n",
        "    print('Error: Unknown gender label.')\n"
      ],
      "metadata": {
        "id": "0XoUYqIAFOuV"
      },
      "execution_count": null,
      "outputs": []
    },
    {
      "cell_type": "code",
      "source": [],
      "metadata": {
        "id": "0IwTAbe7FRO9"
      },
      "execution_count": null,
      "outputs": []
    }
  ]
}